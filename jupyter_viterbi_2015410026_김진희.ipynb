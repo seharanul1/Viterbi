{
 "cells": [
  {
   "cell_type": "code",
   "execution_count": 75,
   "metadata": {
    "collapsed": true
   },
   "outputs": [],
   "source": [
    "import math\n",
    "import numpy as np\n",
    "import hmm\n",
    "#import read_input as ii"
   ]
  },
  {
   "cell_type": "code",
   "execution_count": 76,
   "metadata": {
    "collapsed": true
   },
   "outputs": [],
   "source": [
    "#############################\n",
    "###bigram 파일 읽기\n",
    "#############################\n",
    "f1 = open(\"bigram.txt\", 'r')\n",
    "ss=0\n",
    "bigram = {}\n",
    "\n",
    "\n",
    "while True:\n",
    "    read = f1.readline()\n",
    "    if not read : break\n",
    "    read = read[:-1]\n",
    "    line = read.split('\\t')\n",
    "    if line[0] == '' or line[0] == ' ' or line[0] == '\\n': break\n",
    "    bigram[(line[0],line[1])] = float(line[2])\n",
    "    ss+=float(line[2])\n",
    "\n",
    "    \n",
    "###############################\n",
    "###input 파일 읽기\n",
    "###############################\n",
    "\"\"\"read = f1.readline()\n",
    "read = f1.readline()[1:-2]\n",
    "print(read[:-3])\n",
    "print(read.endswith('lab'))\n",
    "f1.close()\n",
    "f2 = open(read[:-3]+\"txt\",'r')\n",
    "mfcc=f2.read().split()[2:]\n",
    "f2.close()\"\"\"\n",
    "\n",
    "f1 = open(\"reference.txt\", 'r')\n",
    "data =[]\n",
    "#i=0\n",
    "while True:\n",
    "    read = f1.readline()\n",
    "    if not read : break\n",
    "    read = read[1:-2]\n",
    "    if read.endswith('lab'):\n",
    "        #i=i+1\n",
    "        ad = read[:-3]+\"txt\"\n",
    "        f = open(ad,'r')\n",
    "        mfcc=f.read().split()[2:]\n",
    "        data.append((ad,mfcc))\n",
    "        f.close()\n",
    "f1.close()"
   ]
  },
  {
   "cell_type": "code",
   "execution_count": 77,
   "metadata": {
    "collapsed": true
   },
   "outputs": [],
   "source": [
    "phone_state = {}\n",
    "phone_trans = {}\n",
    "PHONES = hmm.phones\n",
    "for phone in PHONES:\n",
    "    phone_state[phone[0]]=phone[2]\n",
    "    phone_trans[phone[0]]=phone[1]"
   ]
  },
  {
   "cell_type": "code",
   "execution_count": 70,
   "metadata": {},
   "outputs": [
    {
     "data": {
      "text/plain": [
       "'\\nfor phone in PHONES:\\n    table = phone_trans[phone[0]]\\n    #print([table[i][len(table[0])-1] for i in range(len(table))])\\n    #print(\"==========\")'"
      ]
     },
     "execution_count": 70,
     "metadata": {},
     "output_type": "execute_result"
    }
   ],
   "source": [
    "\"\"\"\n",
    "for phone in PHONES:\n",
    "    table = phone_trans[phone[0]]\n",
    "    #print([table[i][len(table[0])-1] for i in range(len(table))])\n",
    "    #print(\"==========\")\"\"\""
   ]
  },
  {
   "cell_type": "code",
   "execution_count": 71,
   "metadata": {},
   "outputs": [
    {
     "data": {
      "text/plain": [
       "\"state1 = phone_state['f'][0]\\nstate2 = phone_state['f'][1]\\nstate3 = phone_state['f'][2]\\npdf1 = state1[0][0]\\npdf2=state1[0][1]\\npdf3=state1[0][2]\\nweight, mean, var = pdf1[0], pdf1[1], pdf1[2] \\nprint(weight)\""
      ]
     },
     "execution_count": 71,
     "metadata": {},
     "output_type": "execute_result"
    }
   ],
   "source": [
    "\"\"\"state1 = phone_state['f'][0]\n",
    "state2 = phone_state['f'][1]\n",
    "state3 = phone_state['f'][2]\n",
    "pdf1 = state1[0][0]\n",
    "pdf2=state1[0][1]\n",
    "pdf3=state1[0][2]\n",
    "weight, mean, var = pdf1[0], pdf1[1], pdf1[2] \n",
    "print(weight)\"\"\""
   ]
  },
  {
   "cell_type": "code",
   "execution_count": 78,
   "metadata": {
    "collapsed": true
   },
   "outputs": [],
   "source": [
    "class word:\n",
    "    def __init__(self,phone,start):\n",
    "        self.n_phones = len(phone)\n",
    "        self.phones = phone\n",
    "        self.start_prob = start\n",
    "        self.a = {} #phone끼리 건너가는 transition prob\n",
    "        self.trans_table = [phone_trans[p] for p in self.phones] #각 phone의 a들\n",
    "        for idx in range(self.n_phones-1):\n",
    "            table = self.trans_table[idx]\n",
    "            next_table = self.trans_table[idx+1]\n",
    "            end_prob = table[len(table)-2][len(table[0])-1]\n",
    "            str_prob = next_table[0][1]\n",
    "            self.a[(self.phones[idx],self.phones[idx+1])]=end_prob*str_prob\n",
    "        self.last_phone=self.trans_table[self.n_phones-1]\n",
    "        self.end_prob = self.last_phone[len(self.last_phone)-2][len(self.last_phone[0])-1]  \n",
    "        if self.phones[-1] == 'sp':\n",
    "            self.end = ('sp', 2)\n",
    "        else:\n",
    "            self.end = ('sil', 4)"
   ]
  },
  {
   "cell_type": "code",
   "execution_count": 79,
   "metadata": {
    "collapsed": true
   },
   "outputs": [],
   "source": [
    "word_dict = {\n",
    "    '<s>':word(['sil'],0.990000),\n",
    "    'eight':word(['ey', 't', 'sp'],0.000925),\n",
    "'five':word(['f', 'ay', 'v', 'sp'],0.000890),\n",
    "'four':word(['f', 'ao','r', 'sp'],0.000886),\n",
    "'nine':word(['n', 'ay', 'n' ,'sp'],0.000905),\n",
    "'oh':word(['ow', 'sp'],0.000968),\n",
    "'one':word (['w', 'ah', 'n', 'sp'],0.000905) ,\n",
    "'seven':word (['s', 'eh', 'v', 'ah', 'n', 'sp' ],0.000869) ,\n",
    "'six':word (['s', 'ih', 'k', 's' ,'sp'],0.000939),\n",
    "'three':word(['th', 'r', 'iy', 'sp'],0.000883),\n",
    "'two':word(['t', 'uw', 'sp'],0.000941),\n",
    "'zero':word(['z', 'ih', 'r', 'ow', 'sp'],0.000889),\n",
    "'zero_':word(['z', 'iy', 'r', 'ow', 'sp'],0.000889)\n",
    "}"
   ]
  },
  {
   "cell_type": "code",
   "execution_count": 80,
   "metadata": {
    "collapsed": true
   },
   "outputs": [],
   "source": [
    "word_list = ['<s>', 'eight','five','four','nine','oh','one' ,'seven' ,'six' ,'three' ,'two' ,'zero' ,'zero_' ]"
   ]
  },
  {
   "cell_type": "code",
   "execution_count": 81,
   "metadata": {
    "collapsed": true
   },
   "outputs": [],
   "source": [
    "HMM=[]\n",
    "#HMM=[('start',0,0)]\n",
    "for word in word_list:\n",
    "    for idx, phone in enumerate(word_dict[word].phones):\n",
    "        if phone == 'sp':\n",
    "            N = 3\n",
    "        else:\n",
    "            N=5\n",
    "        for n in range(N):\n",
    "            HMM.append((word,idx,n))\n",
    "#HMM.append(('end',0,0))\n",
    "lg0 = math.inf*(-1)"
   ]
  },
  {
   "cell_type": "code",
   "execution_count": 82,
   "metadata": {
    "collapsed": true
   },
   "outputs": [],
   "source": [
    "def phone_end(x):\n",
    "    if x == 'sp':\n",
    "        return 2\n",
    "    else:\n",
    "        return 4"
   ]
  },
  {
   "cell_type": "code",
   "execution_count": 83,
   "metadata": {
    "collapsed": true
   },
   "outputs": [],
   "source": [
    "# ('<s>', 'sil', 0)   ('<s>', 'sil', 1)\n",
    "# start ('start',0,0) end ('end',0,0)\n",
    "def get_a(sfrom, sto):\n",
    "    (fw, fph_idx, fs) = sfrom\n",
    "    (tw, tph_idx, ts) = sto\n",
    "    if fw == 'start' and (0,0) == (tph_idx, ts):\n",
    "        return math.log(word_dict[tw].start_prob)\n",
    "    elif fw == 'start':\n",
    "        return lg0\n",
    "    fph = word_dict[fw].phones[fph_idx]\n",
    "    if tw == 'end' and word_dict[fw].end == (fph,fs):\n",
    "        return math.log(1)\n",
    "    elif tw == 'end':\n",
    "        return lg0\n",
    "    tph = word_dict[tw].phones[tph_idx]\n",
    "    if fw == tw and fph_idx == tph_idx:\n",
    "        out = phone_trans[fph][fs][ts]\n",
    "        #return math.log(phone_trans[fph][fs][ts])\n",
    "    elif fw == tw and fph_idx+1==tph_idx and (fph,tph) in word_dict[fw].a and fs == phone_end(fph) and ts == 0:\n",
    "        out = word_dict[fw].a[(fph,tph)]\n",
    "        #return math.log(word_dict[fw].a[(fph,tph)])\n",
    "    elif fw != tw and word_dict[fw].end == (fph,fs) and (0,0) == (tph_idx, ts):\n",
    "        if fw=='zero_' :\n",
    "            fw = 'zero'\n",
    "        if tw == 'zero_':\n",
    "            tw = 'zero'\n",
    "        if (fw,tw) not in bigram:\n",
    "            out = 0\n",
    "        else :\n",
    "            out = bigram[(fw,tw)]**0.1\n",
    "        #return math.log(ii.bigram[(fw,tw)])\n",
    "    else:\n",
    "        #print(\"a000000 : \",sfrom, \"=>\",sto)\n",
    "        out = 0\n",
    "    if out == 0:\n",
    "        return lg0\n",
    "    return(math.log(out))"
   ]
  },
  {
   "cell_type": "code",
   "execution_count": null,
   "metadata": {
    "collapsed": true
   },
   "outputs": [],
   "source": [
    "*math.exp(0.25)"
   ]
  },
  {
   "cell_type": "code",
   "execution_count": 64,
   "metadata": {},
   "outputs": [
    {
     "data": {
      "text/plain": [
       "-1.103968253864428"
      ]
     },
     "execution_count": 64,
     "metadata": {},
     "output_type": "execute_result"
    }
   ],
   "source": [
    "get_a(('<s>', 0, 4) ,('eight', 0, 0))"
   ]
  },
  {
   "cell_type": "code",
   "execution_count": null,
   "metadata": {
    "collapsed": true
   },
   "outputs": [],
   "source": []
  },
  {
   "cell_type": "code",
   "execution_count": 84,
   "metadata": {
    "collapsed": true
   },
   "outputs": [],
   "source": [
    "def find(state, vit):\n",
    "    for v in vit:\n",
    "        if v[0] == state:\n",
    "            return v\n",
    "for phone in PHONES:\n",
    "    states = phone_state[phone[0]] #phone='f'\n",
    "    for sn in range(len(states)):\n",
    "        state = states[sn]\n",
    "\n",
    "        pdfs = [state[0][i] for i in range(10)]\n",
    "\n",
    "        l = []\n",
    "        for idx, pdf in enumerate(pdfs):\n",
    "            weight, mean, var = pdf[0], pdf[1], pdf[2]\n",
    "            ##########################\n",
    "            pro_var = 1\n",
    "            for v in var:\n",
    "                pro_var = pro_var * v\n",
    "            #print(pro_var, math.log(pro_var))\n",
    "\n",
    "            sum1 = math.log(weight)-(39/2)*math.log(2*math.pi)-math.log(pro_var)\n",
    "            if (len(pdf) < 4):\n",
    "                phone_state[phone[0]][sn][0][idx].append(sum1)\n",
    "            else:\n",
    "                phone_state[phone[0]][sn][0][idx] = [weight, mean, var, sum1]\n",
    "def get_b(phone, sn, x):\n",
    "    states = phone_state[phone] #phone='f'\n",
    "    sn = sn-1\n",
    "    #0,1,2,3,4 \n",
    "    #-1,0,1,2,3 \n",
    "    if len(states) == 3 and (sn<0 or sn==3):\n",
    "        return 0\n",
    "    elif len(states) == 1 and (sn != 0):\n",
    "        return 0\n",
    "    state = states[sn]\n",
    "    \n",
    "    pdfs = [state[0][i] for i in range(10)]\n",
    "    \n",
    "    l = []\n",
    "    for pdf in pdfs:\n",
    "        weight, mean, var, sum1 = pdf[0], pdf[1], pdf[2], pdf[3]\n",
    "        ##########################\n",
    "        temp3 = [((float(x[i])-mean[i])/(var[i]))**2 for i in range(len(x))]\n",
    "        sum2 = np.sum(temp3)*(-0.5)\n",
    "        \n",
    "        \n",
    "        #print(temp3,\"\\n===\",temp2)\n",
    "        rslt = sum1 + sum2\n",
    "        #print(rslt)\n",
    "        ##########################\n",
    "        #print(rslt, np.long(rslt))\n",
    "        l.append(rslt)\n",
    "    #print(l)\n",
    "    tt=0\n",
    "    for i in range(1,len(pdfs)):\n",
    "        #print(l[i]-l[0])\n",
    "        try:\n",
    "            #print(l[i],l[0],(l[i]-l[0]))\n",
    "            temp = math.exp((l[i] - l[0]))\n",
    "        except OverflowError:\n",
    "            temp = 1\n",
    "        tt = tt+temp\n",
    "        \n",
    "    b=l[0]+math.log(tt+1) \n",
    "    return b*0.1"
   ]
  },
  {
   "cell_type": "code",
   "execution_count": 85,
   "metadata": {
    "collapsed": true
   },
   "outputs": [],
   "source": [
    "START=('start',0,0)\n",
    "END=('end',0,0) \n",
    "def viterbi(x) :     \n",
    "    T=len(x)\n",
    "    #delta[t] = [[(state,p,psi),],]\n",
    "    vtb = [[] for _ in range(T+1)]\n",
    "    #psi[t] = [(w,ph,s1):w]\n",
    "    #psi =[None for _ in range(T)]\n",
    " \n",
    "    for state in HMM:\n",
    "        prob = get_a(('start',0,0),state) + get_b(word_dict[state[0]].phones[state[1]] ,state[2],x[0]) \n",
    "        if get_a(('start',0,0),state) != lg0  :\n",
    "            #if get_a(('start',0,0),state)!= 1:\n",
    "            vtb[0].append((state,prob,START))\n",
    "            #psi[0][state]=state[0]\n",
    "    print(0,\":\",len(vtb[0]))\n",
    "    \"\"\"print(vtb[0])  \n",
    "    print(len(vtb[0]))\n",
    "    print(\"===\") \"\"\"\n",
    "    for t in range(1, T):\n",
    "        for state in HMM:\n",
    "            max_p=(None, None)\n",
    "            for d in vtb[t-1]:\n",
    "                prob = d[1] + get_a(d[0],state) + get_b(word_dict[state[0]].phones[state[1]] ,state[2],x[t])                    \n",
    "                if get_a(d[0],state) != lg0 and (max_p[1] == None or max_p[0] < prob):\n",
    "                    max_p = (prob, d[0])\n",
    "                    #print(\"prev:\",d[0], state, get_a(d[0],state), get_b(word_dict[state[0]].phones[state[1]] ,state[2],x[t]),prob   )                  \n",
    "            if max_p[1] != None:\n",
    "                vtb[t].append((state, max_p[0], max_p[1]))\n",
    "                #print((state, max_p[0], max_p[1]))\n",
    "        #print(t,len(vtb[t]))\n",
    "        #print(vtb[t])\n",
    "        if t % 50 == 0:\n",
    "            print(t,\":\",len(vtb[t]))\n",
    "        #print(vtb[t],\"\\n===============\\n\")\n",
    "        \"\"\"if len(vtb[t]) > 224:\n",
    "            print(t,\":\",vtb[t],\"\\=============================n\\n\")\"\"\"\n",
    "    \"\"\"print(T)            \n",
    "    print(len(vtb[1]))\n",
    "    print(vtb[1]) \"\"\"\n",
    "    #print(vtb[T-1])\n",
    "    state = END\n",
    "    max_p=(vtb[T-1][0][1], vtb[T-1][0][0])\n",
    "    for d in vtb[T-1]:\n",
    "        if max_p[0] < d[1]:\n",
    "            max_p = (d[1], d[0])\n",
    "    vtb[T].append((state, max_p[0], max_p[1]))    \n",
    "    #print(vtb[T])\n",
    "    #print(vtb[T][0][2])\n",
    "\n",
    "    back_vtb_state = END\n",
    "    ##################\n",
    "    ph_seq=[]\n",
    "    ##################\n",
    "    for t in range(T,-1,-1):\n",
    "        cur_vtb = find(back_vtb_state,vtb[t])\n",
    "        ph_seq.append(cur_vtb[0])\n",
    "        back_vtb_state=cur_vtb[2]\n",
    "        #print(cur_vtb)\n",
    "    ph_seq.reverse()\n",
    "    #[('<s>', 0, 0), ('<s>', 0, 1), ('<s>', 0, 1), ('end', 0, 0)]\n",
    "    #fw, fph, fs ,...   fs == phone_end(fph) and ts == 0\n",
    "    word_seq = []\n",
    "    for i, state in enumerate(ph_seq):\n",
    "        if state[0] == 'end':\n",
    "            break\n",
    "        next_state=ph_seq[i+1]\n",
    "        (fw, fph_idx, fsn) = state\n",
    "        (tw,tph_idx,tsn) = next_state\n",
    "        if fw != tw or (fph_idx !=0 and tph_idx==0):\n",
    "            word_seq.append(fw)\n",
    "    word_seq = [word for word in word_seq if word != '<s>']\n",
    "    for i,_ in enumerate(word_seq):\n",
    "        if word_seq[i] == 'zero_':\n",
    "            word_seq[i] = 'zero'\n",
    "        \n",
    "    return ph_seq, word_seq\n",
    "\n",
    "    \"\"\"print(delta[0])\n",
    "    print(len(delta[0]))\n",
    "    #print(psi[0])\"\"\""
   ]
  },
  {
   "cell_type": "code",
   "execution_count": 93,
   "metadata": {
    "collapsed": true
   },
   "outputs": [],
   "source": [
    "sample_size=5"
   ]
  },
  {
   "cell_type": "code",
   "execution_count": 99,
   "metadata": {
    "scrolled": true
   },
   "outputs": [
    {
     "name": "stdout",
     "output_type": "stream",
     "text": [
      "0 : 13\n"
     ]
    },
    {
     "ename": "KeyboardInterrupt",
     "evalue": "",
     "output_type": "error",
     "traceback": [
      "\u001b[1;31m---------------------------------------------------------------------------\u001b[0m",
      "\u001b[1;31mKeyboardInterrupt\u001b[0m                         Traceback (most recent call last)",
      "\u001b[1;32m<ipython-input-99-375327603a41>\u001b[0m in \u001b[0;36m<module>\u001b[1;34m()\u001b[0m\n\u001b[0;32m      9\u001b[0m         \u001b[1;32mfor\u001b[0m \u001b[0mi\u001b[0m \u001b[1;32min\u001b[0m \u001b[0mrange\u001b[0m\u001b[1;33m(\u001b[0m\u001b[1;36m0\u001b[0m\u001b[1;33m,\u001b[0m\u001b[0mlen\u001b[0m\u001b[1;33m(\u001b[0m\u001b[0md\u001b[0m\u001b[1;33m[\u001b[0m\u001b[1;36m1\u001b[0m\u001b[1;33m]\u001b[0m\u001b[1;33m)\u001b[0m\u001b[1;33m,\u001b[0m\u001b[0mdim\u001b[0m\u001b[1;33m)\u001b[0m\u001b[1;33m:\u001b[0m\u001b[1;33m\u001b[0m\u001b[0m\n\u001b[0;32m     10\u001b[0m             \u001b[0mcut_data\u001b[0m\u001b[1;33m.\u001b[0m\u001b[0mappend\u001b[0m\u001b[1;33m(\u001b[0m\u001b[0md\u001b[0m\u001b[1;33m[\u001b[0m\u001b[1;36m1\u001b[0m\u001b[1;33m]\u001b[0m\u001b[1;33m[\u001b[0m\u001b[0mi\u001b[0m\u001b[1;33m:\u001b[0m\u001b[0mi\u001b[0m\u001b[1;33m+\u001b[0m\u001b[0mdim\u001b[0m\u001b[1;33m]\u001b[0m\u001b[1;33m)\u001b[0m\u001b[1;33m\u001b[0m\u001b[0m\n\u001b[1;32m---> 11\u001b[1;33m         \u001b[0mseq\u001b[0m\u001b[1;33m,\u001b[0m \u001b[0mout\u001b[0m \u001b[1;33m=\u001b[0m \u001b[0mviterbi\u001b[0m\u001b[1;33m(\u001b[0m\u001b[0mcut_data\u001b[0m\u001b[1;33m)\u001b[0m\u001b[1;33m\u001b[0m\u001b[0m\n\u001b[0m\u001b[0;32m     12\u001b[0m         \u001b[1;32mfor\u001b[0m \u001b[0mword\u001b[0m \u001b[1;32min\u001b[0m \u001b[0mout\u001b[0m\u001b[1;33m:\u001b[0m\u001b[1;33m\u001b[0m\u001b[0m\n\u001b[0;32m     13\u001b[0m             \u001b[0mf2\u001b[0m\u001b[1;33m.\u001b[0m\u001b[0mwrite\u001b[0m\u001b[1;33m(\u001b[0m\u001b[1;34m\"\\n\"\u001b[0m\u001b[1;33m+\u001b[0m\u001b[0mword\u001b[0m\u001b[1;33m)\u001b[0m\u001b[1;33m\u001b[0m\u001b[0m\n",
      "\u001b[1;32m<ipython-input-85-050fde32ca99>\u001b[0m in \u001b[0;36mviterbi\u001b[1;34m(x)\u001b[0m\n\u001b[0;32m     22\u001b[0m             \u001b[0mmax_p\u001b[0m\u001b[1;33m=\u001b[0m\u001b[1;33m(\u001b[0m\u001b[1;32mNone\u001b[0m\u001b[1;33m,\u001b[0m \u001b[1;32mNone\u001b[0m\u001b[1;33m)\u001b[0m\u001b[1;33m\u001b[0m\u001b[0m\n\u001b[0;32m     23\u001b[0m             \u001b[1;32mfor\u001b[0m \u001b[0md\u001b[0m \u001b[1;32min\u001b[0m \u001b[0mvtb\u001b[0m\u001b[1;33m[\u001b[0m\u001b[0mt\u001b[0m\u001b[1;33m-\u001b[0m\u001b[1;36m1\u001b[0m\u001b[1;33m]\u001b[0m\u001b[1;33m:\u001b[0m\u001b[1;33m\u001b[0m\u001b[0m\n\u001b[1;32m---> 24\u001b[1;33m                 \u001b[0mprob\u001b[0m \u001b[1;33m=\u001b[0m \u001b[0md\u001b[0m\u001b[1;33m[\u001b[0m\u001b[1;36m1\u001b[0m\u001b[1;33m]\u001b[0m \u001b[1;33m+\u001b[0m \u001b[0mget_a\u001b[0m\u001b[1;33m(\u001b[0m\u001b[0md\u001b[0m\u001b[1;33m[\u001b[0m\u001b[1;36m0\u001b[0m\u001b[1;33m]\u001b[0m\u001b[1;33m,\u001b[0m\u001b[0mstate\u001b[0m\u001b[1;33m)\u001b[0m \u001b[1;33m+\u001b[0m \u001b[0mget_b\u001b[0m\u001b[1;33m(\u001b[0m\u001b[0mword_dict\u001b[0m\u001b[1;33m[\u001b[0m\u001b[0mstate\u001b[0m\u001b[1;33m[\u001b[0m\u001b[1;36m0\u001b[0m\u001b[1;33m]\u001b[0m\u001b[1;33m]\u001b[0m\u001b[1;33m.\u001b[0m\u001b[0mphones\u001b[0m\u001b[1;33m[\u001b[0m\u001b[0mstate\u001b[0m\u001b[1;33m[\u001b[0m\u001b[1;36m1\u001b[0m\u001b[1;33m]\u001b[0m\u001b[1;33m]\u001b[0m \u001b[1;33m,\u001b[0m\u001b[0mstate\u001b[0m\u001b[1;33m[\u001b[0m\u001b[1;36m2\u001b[0m\u001b[1;33m]\u001b[0m\u001b[1;33m,\u001b[0m\u001b[0mx\u001b[0m\u001b[1;33m[\u001b[0m\u001b[0mt\u001b[0m\u001b[1;33m]\u001b[0m\u001b[1;33m)\u001b[0m\u001b[1;33m\u001b[0m\u001b[0m\n\u001b[0m\u001b[0;32m     25\u001b[0m                 \u001b[1;32mif\u001b[0m \u001b[0mget_a\u001b[0m\u001b[1;33m(\u001b[0m\u001b[0md\u001b[0m\u001b[1;33m[\u001b[0m\u001b[1;36m0\u001b[0m\u001b[1;33m]\u001b[0m\u001b[1;33m,\u001b[0m\u001b[0mstate\u001b[0m\u001b[1;33m)\u001b[0m \u001b[1;33m!=\u001b[0m \u001b[0mlg0\u001b[0m \u001b[1;32mand\u001b[0m \u001b[1;33m(\u001b[0m\u001b[0mmax_p\u001b[0m\u001b[1;33m[\u001b[0m\u001b[1;36m1\u001b[0m\u001b[1;33m]\u001b[0m \u001b[1;33m==\u001b[0m \u001b[1;32mNone\u001b[0m \u001b[1;32mor\u001b[0m \u001b[0mmax_p\u001b[0m\u001b[1;33m[\u001b[0m\u001b[1;36m0\u001b[0m\u001b[1;33m]\u001b[0m \u001b[1;33m<\u001b[0m \u001b[0mprob\u001b[0m\u001b[1;33m)\u001b[0m\u001b[1;33m:\u001b[0m\u001b[1;33m\u001b[0m\u001b[0m\n\u001b[0;32m     26\u001b[0m                     \u001b[0mmax_p\u001b[0m \u001b[1;33m=\u001b[0m \u001b[1;33m(\u001b[0m\u001b[0mprob\u001b[0m\u001b[1;33m,\u001b[0m \u001b[0md\u001b[0m\u001b[1;33m[\u001b[0m\u001b[1;36m0\u001b[0m\u001b[1;33m]\u001b[0m\u001b[1;33m)\u001b[0m\u001b[1;33m\u001b[0m\u001b[0m\n",
      "\u001b[1;32m<ipython-input-84-66054e9ff141>\u001b[0m in \u001b[0;36mget_b\u001b[1;34m(phone, sn, x)\u001b[0m\n\u001b[0;32m     42\u001b[0m         \u001b[1;31m##########################\u001b[0m\u001b[1;33m\u001b[0m\u001b[1;33m\u001b[0m\u001b[0m\n\u001b[0;32m     43\u001b[0m         \u001b[0mtemp3\u001b[0m \u001b[1;33m=\u001b[0m \u001b[1;33m[\u001b[0m\u001b[1;33m(\u001b[0m\u001b[1;33m(\u001b[0m\u001b[0mfloat\u001b[0m\u001b[1;33m(\u001b[0m\u001b[0mx\u001b[0m\u001b[1;33m[\u001b[0m\u001b[0mi\u001b[0m\u001b[1;33m]\u001b[0m\u001b[1;33m)\u001b[0m\u001b[1;33m-\u001b[0m\u001b[0mmean\u001b[0m\u001b[1;33m[\u001b[0m\u001b[0mi\u001b[0m\u001b[1;33m]\u001b[0m\u001b[1;33m)\u001b[0m\u001b[1;33m/\u001b[0m\u001b[1;33m(\u001b[0m\u001b[0mvar\u001b[0m\u001b[1;33m[\u001b[0m\u001b[0mi\u001b[0m\u001b[1;33m]\u001b[0m\u001b[1;33m)\u001b[0m\u001b[1;33m)\u001b[0m\u001b[1;33m**\u001b[0m\u001b[1;36m2\u001b[0m \u001b[1;32mfor\u001b[0m \u001b[0mi\u001b[0m \u001b[1;32min\u001b[0m \u001b[0mrange\u001b[0m\u001b[1;33m(\u001b[0m\u001b[0mlen\u001b[0m\u001b[1;33m(\u001b[0m\u001b[0mx\u001b[0m\u001b[1;33m)\u001b[0m\u001b[1;33m)\u001b[0m\u001b[1;33m]\u001b[0m\u001b[1;33m\u001b[0m\u001b[0m\n\u001b[1;32m---> 44\u001b[1;33m         \u001b[0msum2\u001b[0m \u001b[1;33m=\u001b[0m \u001b[0mnp\u001b[0m\u001b[1;33m.\u001b[0m\u001b[0msum\u001b[0m\u001b[1;33m(\u001b[0m\u001b[0mtemp3\u001b[0m\u001b[1;33m)\u001b[0m\u001b[1;33m*\u001b[0m\u001b[1;33m(\u001b[0m\u001b[1;33m-\u001b[0m\u001b[1;36m0.5\u001b[0m\u001b[1;33m)\u001b[0m\u001b[1;33m\u001b[0m\u001b[0m\n\u001b[0m\u001b[0;32m     45\u001b[0m \u001b[1;33m\u001b[0m\u001b[0m\n\u001b[0;32m     46\u001b[0m \u001b[1;33m\u001b[0m\u001b[0m\n",
      "\u001b[1;32mC:\\Users\\jklnm\\Anaconda3\\lib\\site-packages\\numpy\\core\\fromnumeric.py\u001b[0m in \u001b[0;36msum\u001b[1;34m(a, axis, dtype, out, keepdims)\u001b[0m\n\u001b[0;32m   1812\u001b[0m             \u001b[1;32mreturn\u001b[0m \u001b[0msum\u001b[0m\u001b[1;33m(\u001b[0m\u001b[0maxis\u001b[0m\u001b[1;33m=\u001b[0m\u001b[0maxis\u001b[0m\u001b[1;33m,\u001b[0m \u001b[0mdtype\u001b[0m\u001b[1;33m=\u001b[0m\u001b[0mdtype\u001b[0m\u001b[1;33m,\u001b[0m \u001b[0mout\u001b[0m\u001b[1;33m=\u001b[0m\u001b[0mout\u001b[0m\u001b[1;33m,\u001b[0m \u001b[1;33m**\u001b[0m\u001b[0mkwargs\u001b[0m\u001b[1;33m)\u001b[0m\u001b[1;33m\u001b[0m\u001b[0m\n\u001b[0;32m   1813\u001b[0m     return _methods._sum(a, axis=axis, dtype=dtype,\n\u001b[1;32m-> 1814\u001b[1;33m                          out=out, **kwargs)\n\u001b[0m\u001b[0;32m   1815\u001b[0m \u001b[1;33m\u001b[0m\u001b[0m\n\u001b[0;32m   1816\u001b[0m \u001b[1;33m\u001b[0m\u001b[0m\n",
      "\u001b[1;32mC:\\Users\\jklnm\\Anaconda3\\lib\\site-packages\\numpy\\core\\_methods.py\u001b[0m in \u001b[0;36m_sum\u001b[1;34m(a, axis, dtype, out, keepdims)\u001b[0m\n\u001b[0;32m     30\u001b[0m \u001b[1;33m\u001b[0m\u001b[0m\n\u001b[0;32m     31\u001b[0m \u001b[1;32mdef\u001b[0m \u001b[0m_sum\u001b[0m\u001b[1;33m(\u001b[0m\u001b[0ma\u001b[0m\u001b[1;33m,\u001b[0m \u001b[0maxis\u001b[0m\u001b[1;33m=\u001b[0m\u001b[1;32mNone\u001b[0m\u001b[1;33m,\u001b[0m \u001b[0mdtype\u001b[0m\u001b[1;33m=\u001b[0m\u001b[1;32mNone\u001b[0m\u001b[1;33m,\u001b[0m \u001b[0mout\u001b[0m\u001b[1;33m=\u001b[0m\u001b[1;32mNone\u001b[0m\u001b[1;33m,\u001b[0m \u001b[0mkeepdims\u001b[0m\u001b[1;33m=\u001b[0m\u001b[1;32mFalse\u001b[0m\u001b[1;33m)\u001b[0m\u001b[1;33m:\u001b[0m\u001b[1;33m\u001b[0m\u001b[0m\n\u001b[1;32m---> 32\u001b[1;33m     \u001b[1;32mreturn\u001b[0m \u001b[0mumr_sum\u001b[0m\u001b[1;33m(\u001b[0m\u001b[0ma\u001b[0m\u001b[1;33m,\u001b[0m \u001b[0maxis\u001b[0m\u001b[1;33m,\u001b[0m \u001b[0mdtype\u001b[0m\u001b[1;33m,\u001b[0m \u001b[0mout\u001b[0m\u001b[1;33m,\u001b[0m \u001b[0mkeepdims\u001b[0m\u001b[1;33m)\u001b[0m\u001b[1;33m\u001b[0m\u001b[0m\n\u001b[0m\u001b[0;32m     33\u001b[0m \u001b[1;33m\u001b[0m\u001b[0m\n\u001b[0;32m     34\u001b[0m \u001b[1;32mdef\u001b[0m \u001b[0m_prod\u001b[0m\u001b[1;33m(\u001b[0m\u001b[0ma\u001b[0m\u001b[1;33m,\u001b[0m \u001b[0maxis\u001b[0m\u001b[1;33m=\u001b[0m\u001b[1;32mNone\u001b[0m\u001b[1;33m,\u001b[0m \u001b[0mdtype\u001b[0m\u001b[1;33m=\u001b[0m\u001b[1;32mNone\u001b[0m\u001b[1;33m,\u001b[0m \u001b[0mout\u001b[0m\u001b[1;33m=\u001b[0m\u001b[1;32mNone\u001b[0m\u001b[1;33m,\u001b[0m \u001b[0mkeepdims\u001b[0m\u001b[1;33m=\u001b[0m\u001b[1;32mFalse\u001b[0m\u001b[1;33m)\u001b[0m\u001b[1;33m:\u001b[0m\u001b[1;33m\u001b[0m\u001b[0m\n",
      "\u001b[1;31mKeyboardInterrupt\u001b[0m: "
     ]
    }
   ],
   "source": [
    "f2 = open(\"recognized.txt\", 'w')\n",
    "f2.write(\"#!MLF!#\")\n",
    "for idx,d in enumerate(data):\n",
    "    ad = '\\n\"'+ d[0][:-3] +'rec\"'\n",
    "    f2.write(ad)\n",
    "    if idx < sample_size:\n",
    "        dim = 39\n",
    "        cut_data = []\n",
    "        for i in range(0,len(d[1]),dim):\n",
    "            cut_data.append(d[1][i:i+dim])\n",
    "        seq, out = viterbi(cut_data)\n",
    "        for word in out:\n",
    "            f2.write(\"\\n\"+word)\n",
    "            print(\"\"+word)\n",
    "    f2.write(\"\\n.\")\n",
    "    print(\".\")\n",
    "    print(seq)\n",
    "f2.close()"
   ]
  },
  {
   "cell_type": "code",
   "execution_count": 41,
   "metadata": {},
   "outputs": [
    {
     "data": {
      "text/plain": [
       "'for state in ph_seq:\\n    (word, ph_idx, sn) = state\\n    phone = word_dict[word].phones[ph_idx]\\n    end_phone = len(word_dict[word].phones)-1\\n    if ph_idx == end_phone and sn == phone_end(phone):\\n        word_seq.append(word)'"
      ]
     },
     "execution_count": 41,
     "metadata": {},
     "output_type": "execute_result"
    }
   ],
   "source": [
    "\"\"\"for state in ph_seq:\n",
    "    (word, ph_idx, sn) = state\n",
    "    phone = word_dict[word].phones[ph_idx]\n",
    "    end_phone = len(word_dict[word].phones)-1\n",
    "    if ph_idx == end_phone and sn == phone_end(phone):\n",
    "        word_seq.append(word)\"\"\""
   ]
  },
  {
   "cell_type": "code",
   "execution_count": 43,
   "metadata": {},
   "outputs": [
    {
     "name": "stdout",
     "output_type": "stream",
     "text": [
      "f =\n",
      "\n",
      "[0.0, 1.0, 0.0, 0.0, 0.0]\n",
      "[0.0, 0.8519424, 0.1480576, 0.0, 0.0]\n",
      "[0.0, 0.0, 0.703905, 0.296095, 0.0]\n",
      "[0.0, 0.0, 0.0, 0.5744837, 0.4255163]\n",
      "[0.0, 0.0, 0.0, 0.0, 0.0]\n",
      "k =\n",
      "\n",
      "[0.0, 1.0, 0.0, 0.0, 0.0]\n",
      "[0.0, 0.7719411, 0.2280589, 0.0, 0.0]\n",
      "[0.0, 0.0, 0.7727578, 0.2272422, 0.0]\n",
      "[0.0, 0.0, 0.0, 0.7366898, 0.2633102]\n",
      "[0.0, 0.0, 0.0, 0.0, 0.0]\n",
      "n =\n",
      "\n",
      "[0.0, 1.0, 0.0, 0.0, 0.0]\n",
      "[0.0, 0.6869826, 0.3130174, 0.0, 0.0]\n",
      "[0.0, 0.0, 0.6253549, 0.3746451, 0.0]\n",
      "[0.0, 0.0, 0.0, 0.6529427, 0.3470573]\n",
      "[0.0, 0.0, 0.0, 0.0, 0.0]\n",
      "r =\n",
      "\n",
      "[0.0, 1.0, 0.0, 0.0, 0.0]\n",
      "[0.0, 0.5813435, 0.4186565, 0.0, 0.0]\n",
      "[0.0, 0.0, 0.6035883, 0.3964117, 0.0]\n",
      "[0.0, 0.0, 0.0, 0.6091846, 0.3908154]\n",
      "[0.0, 0.0, 0.0, 0.0, 0.0]\n",
      "s =\n",
      "\n",
      "[0.0, 1.0, 0.0, 0.0, 0.0]\n",
      "[0.0, 0.7073029, 0.2926971, 0.0, 0.0]\n",
      "[0.0, 0.0, 0.8038934, 0.1961065, 0.0]\n",
      "[0.0, 0.0, 0.0, 0.5902845, 0.4097155]\n",
      "[0.0, 0.0, 0.0, 0.0, 0.0]\n",
      "t =\n",
      "\n",
      "[0.0, 1.0, 0.0, 0.0, 0.0]\n",
      "[0.0, 0.6211756, 0.3788244, 0.0, 0.0]\n",
      "[0.0, 0.0, 0.6953011, 0.3046989, 0.0]\n",
      "[0.0, 0.0, 0.0, 0.7171161, 0.2828839]\n",
      "[0.0, 0.0, 0.0, 0.0, 0.0]\n",
      "v =\n",
      "\n",
      "[0.0, 1.0, 0.0, 0.0, 0.0]\n",
      "[0.0, 0.6721177, 0.3278823, 0.0, 0.0]\n",
      "[0.0, 0.0, 0.6687874, 0.3312127, 0.0]\n",
      "[0.0, 0.0, 0.0, 0.7119834, 0.2880166]\n",
      "[0.0, 0.0, 0.0, 0.0, 0.0]\n",
      "w =\n",
      "\n",
      "[0.0, 1.0, 0.0, 0.0, 0.0]\n",
      "[0.0, 0.8577302, 0.1422698, 0.0, 0.0]\n",
      "[0.0, 0.0, 0.8172638, 0.1827362, 0.0]\n",
      "[0.0, 0.0, 0.0, 0.7964008, 0.2035992]\n",
      "[0.0, 0.0, 0.0, 0.0, 0.0]\n",
      "z =\n",
      "\n",
      "[0.0, 1.0, 0.0, 0.0, 0.0]\n",
      "[0.0, 0.7404401, 0.2595599, 0.0, 0.0]\n",
      "[0.0, 0.0, 0.7156919, 0.2843081, 0.0]\n",
      "[0.0, 0.0, 0.0, 0.7191438, 0.2808562]\n",
      "[0.0, 0.0, 0.0, 0.0, 0.0]\n",
      "ah =\n",
      "\n",
      "[0.0, 1.0, 0.0, 0.0, 0.0]\n",
      "[0.0, 0.6201279, 0.3798721, 0.0, 0.0]\n",
      "[0.0, 0.0, 0.6047768, 0.3952231, 0.0]\n",
      "[0.0, 0.0, 0.0, 0.5744963, 0.4255037]\n",
      "[0.0, 0.0, 0.0, 0.0, 0.0]\n",
      "ao =\n",
      "\n",
      "[0.0, 1.0, 0.0, 0.0, 0.0]\n",
      "[0.0, 0.7349072, 0.2650929, 0.0, 0.0]\n",
      "[0.0, 0.0, 0.8440947, 0.1559053, 0.0]\n",
      "[0.0, 0.0, 0.0, 0.8340402, 0.1659598]\n",
      "[0.0, 0.0, 0.0, 0.0, 0.0]\n",
      "ay =\n",
      "\n",
      "[0.0, 1.0, 0.0, 0.0, 0.0]\n",
      "[0.0, 0.783453, 0.216547, 0.0, 0.0]\n",
      "[0.0, 0.0, 0.8708523, 0.1291478, 0.0]\n",
      "[0.0, 0.0, 0.0, 0.8319951, 0.1680049]\n",
      "[0.0, 0.0, 0.0, 0.0, 0.0]\n",
      "eh =\n",
      "\n",
      "[0.0, 1.0, 0.0, 0.0, 0.0]\n",
      "[0.0, 0.4676543, 0.5323457, 0.0, 0.0]\n",
      "[0.0, 0.0, 0.5098763, 0.4901237, 0.0]\n",
      "[0.0, 0.0, 0.0, 0.7226227, 0.2773773]\n",
      "[0.0, 0.0, 0.0, 0.0, 0.0]\n",
      "ey =\n",
      "\n",
      "[0.0, 1.0, 0.0, 0.0, 0.0]\n",
      "[0.0, 0.8832622, 0.1167378, 0.0, 0.0]\n",
      "[0.0, 0.0, 0.872129, 0.1278709, 0.0]\n",
      "[0.0, 0.0, 0.0, 0.7770903, 0.2229097]\n",
      "[0.0, 0.0, 0.0, 0.0, 0.0]\n",
      "ih =\n",
      "\n",
      "[0.0, 1.0, 0.0, 0.0, 0.0]\n",
      "[0.0, 0.4703746, 0.5296254, 0.0, 0.0]\n",
      "[0.0, 0.0, 0.6374282, 0.3625718, 0.0]\n",
      "[0.0, 0.0, 0.0, 0.6924829, 0.3075171]\n",
      "[0.0, 0.0, 0.0, 0.0, 0.0]\n",
      "iy =\n",
      "\n",
      "[0.0, 1.0, 0.0, 0.0, 0.0]\n",
      "[0.0, 0.7952263, 0.2047737, 0.0, 0.0]\n",
      "[0.0, 0.0, 0.8294532, 0.1705468, 0.0]\n",
      "[0.0, 0.0, 0.0, 0.7639641, 0.2360359]\n",
      "[0.0, 0.0, 0.0, 0.0, 0.0]\n",
      "ow =\n",
      "\n",
      "[0.0, 1.0, 0.0, 0.0, 0.0]\n",
      "[0.0, 0.8224968, 0.1775032, 0.0, 0.0]\n",
      "[0.0, 0.0, 0.8869147, 0.1130853, 0.0]\n",
      "[0.0, 0.0, 0.0, 0.8308864, 0.1691137]\n",
      "[0.0, 0.0, 0.0, 0.0, 0.0]\n",
      "th =\n",
      "\n",
      "[0.0, 1.0, 0.0, 0.0, 0.0]\n",
      "[0.0, 0.8258344, 0.1741656, 0.0, 0.0]\n",
      "[0.0, 0.0, 0.7725022, 0.2274978, 0.0]\n",
      "[0.0, 0.0, 0.0, 0.7649803, 0.2350197]\n",
      "[0.0, 0.0, 0.0, 0.0, 0.0]\n",
      "uw =\n",
      "\n",
      "[0.0, 1.0, 0.0, 0.0, 0.0]\n",
      "[0.0, 0.8097491, 0.1902509, 0.0, 0.0]\n",
      "[0.0, 0.0, 0.875346, 0.124654, 0.0]\n",
      "[0.0, 0.0, 0.0, 0.8365598, 0.1634402]\n",
      "[0.0, 0.0, 0.0, 0.0, 0.0]\n",
      "sil =\n",
      "\n",
      "[0.0, 1.0, 0.0, 0.0, 0.0]\n",
      "[0.0, 0.858848, 0.0786422, 0.06250978, 0.0]\n",
      "[0.0, 0.0, 0.8590611, 0.1409389, 0.0]\n",
      "[0.0, 0.05343336, 0.0, 0.7964702, 0.1500964]\n",
      "[0.0, 0.0, 0.0, 0.0, 0.0]\n",
      "sp =\n",
      "\n",
      "[0.0, 0.2385641, 0.7614358]\n",
      "[0.0, 0.9152609, 0.08473914]\n",
      "[0.0, 0.0, 0.0]\n"
     ]
    }
   ],
   "source": [
    "\"\"\"for phone in PHONES:\n",
    "    print(phone[0], \"=\\n\")\n",
    "    for p in phone_trans[phone[0]]:\n",
    "        print(p)\"\"\""
   ]
  },
  {
   "cell_type": "code",
   "execution_count": 48,
   "metadata": {
    "scrolled": false
   },
   "outputs": [
    {
     "data": {
      "text/plain": [
       "'for phone in PHONES:\\n    states = phone_state[phone[0]]\\n    print(len(states))'"
      ]
     },
     "execution_count": 48,
     "metadata": {},
     "output_type": "execute_result"
    }
   ],
   "source": [
    "\"\"\"for phone in PHONES:\n",
    "    states = phone_state[phone[0]]\n",
    "    print(len(states))\"\"\""
   ]
  },
  {
   "cell_type": "code",
   "execution_count": null,
   "metadata": {
    "collapsed": true
   },
   "outputs": [],
   "source": []
  },
  {
   "cell_type": "code",
   "execution_count": 52,
   "metadata": {
    "collapsed": true
   },
   "outputs": [],
   "source": []
  },
  {
   "cell_type": "code",
   "execution_count": 65,
   "metadata": {},
   "outputs": [
    {
     "data": {
      "text/plain": [
       "\"for phone in PHONES:\\n    states = phone_state[phone[0]] #phone='f'\\n    for sn in range(len(states)):\\n        sn = sn-1\\n        #0,1,2,3,4 \\n        #-1,0,1,2,3 \\n        if len(states) == 3 and (sn<0 or sn==3):\\n            continue\\n        elif len(states) == 1 and (sn != 0):\\n            continue\\n        state = states[sn]\\n\\n        pdfs = [state[0][i] for i in range(10)]\\n\\n        l = []\\n        for idx, pdf in enumerate(pdfs):\\n            print(phone[0],pdf[3])\""
      ]
     },
     "execution_count": 65,
     "metadata": {},
     "output_type": "execute_result"
    }
   ],
   "source": [
    "\"\"\"for phone in PHONES:\n",
    "    states = phone_state[phone[0]] #phone='f'\n",
    "    for sn in range(len(states)):\n",
    "        sn = sn-1\n",
    "        #0,1,2,3,4 \n",
    "        #-1,0,1,2,3 \n",
    "        if len(states) == 3 and (sn<0 or sn==3):\n",
    "            continue\n",
    "        elif len(states) == 1 and (sn != 0):\n",
    "            continue\n",
    "        state = states[sn]\n",
    "\n",
    "        pdfs = [state[0][i] for i in range(10)]\n",
    "\n",
    "        l = []\n",
    "        for idx, pdf in enumerate(pdfs):\n",
    "            print(phone[0],pdf[3])\"\"\""
   ]
  },
  {
   "cell_type": "code",
   "execution_count": 99,
   "metadata": {
    "collapsed": true
   },
   "outputs": [],
   "source": []
  },
  {
   "cell_type": "code",
   "execution_count": null,
   "metadata": {
    "collapsed": true
   },
   "outputs": [],
   "source": []
  }
 ],
 "metadata": {
  "kernelspec": {
   "display_name": "Python 3",
   "language": "python",
   "name": "python3"
  },
  "language_info": {
   "codemirror_mode": {
    "name": "ipython",
    "version": 3
   },
   "file_extension": ".py",
   "mimetype": "text/x-python",
   "name": "python",
   "nbconvert_exporter": "python",
   "pygments_lexer": "ipython3",
   "version": "3.6.1"
  }
 },
 "nbformat": 4,
 "nbformat_minor": 2
}
